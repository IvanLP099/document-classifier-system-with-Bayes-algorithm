{
 "cells": [
  {
   "cell_type": "code",
   "execution_count": 1,
   "id": "369727b8",
   "metadata": {},
   "outputs": [],
   "source": [
    "#Importación de la función 'convert_from_path' para convertir archivos PDF a imágenes\n",
    "from pdf2image import convert_from_path"
   ]
  },
  {
   "cell_type": "code",
   "execution_count": 7,
   "id": "309ebdb2",
   "metadata": {},
   "outputs": [],
   "source": [
    "#Importación del OCR\n",
    "import pytesseract as tess\n",
    "from PIL import Image"
   ]
  },
  {
   "cell_type": "code",
   "execution_count": 15,
   "id": "14918bf2",
   "metadata": {},
   "outputs": [],
   "source": [
    "#Importación de NLTK (Lit de herramientas de Lenguaje Natural)\n",
    "import nltk"
   ]
  },
  {
   "cell_type": "code",
   "execution_count": 41,
   "id": "431213e3",
   "metadata": {},
   "outputs": [
    {
     "name": "stdout",
     "output_type": "stream",
     "text": [
      "Collecting PyPDF2\n",
      "  Downloading pypdf2-3.0.1-py3-none-any.whl (232 kB)\n",
      "     ---------------------------------------- 0.0/232.6 kB ? eta -:--:--\n",
      "     - -------------------------------------- 10.2/232.6 kB ? eta -:--:--\n",
      "     -------------------- ----------------- 122.9/232.6 kB 1.4 MB/s eta 0:00:01\n",
      "     -------------------------------------- 232.6/232.6 kB 2.4 MB/s eta 0:00:00\n",
      "Installing collected packages: PyPDF2\n",
      "Successfully installed PyPDF2-3.0.1\n"
     ]
    }
   ],
   "source": [
    "!pip install PyPDF2"
   ]
  },
  {
   "cell_type": "code",
   "execution_count": 42,
   "id": "65cb734c",
   "metadata": {},
   "outputs": [],
   "source": [
    "import PyPDF2"
   ]
  },
  {
   "cell_type": "code",
   "execution_count": 141,
   "id": "93a4ffde",
   "metadata": {},
   "outputs": [
    {
     "name": "stdout",
     "output_type": "stream",
     "text": [
      "showing info https://raw.githubusercontent.com/nltk/nltk_data/gh-pages/index.xml\n"
     ]
    },
    {
     "data": {
      "text/plain": [
       "True"
      ]
     },
     "execution_count": 141,
     "metadata": {},
     "output_type": "execute_result"
    }
   ],
   "source": [
    "#Acceso a la UI de Natural Language Toolkit\n",
    "#para descargar recursos y datos que son necesarios para trabajar \n",
    "#con procesamiento de lenguaje natural (NLP) en Python.\n",
    "nltk.download()"
   ]
  },
  {
   "cell_type": "code",
   "execution_count": 70,
   "id": "3a53cfbd",
   "metadata": {},
   "outputs": [],
   "source": [
    "#Ruta del archivo de test\n",
    "name_path = 'Evaluacion_Anual_Sistema_Control_Interno.pdf.pdf'"
   ]
  },
  {
   "cell_type": "code",
   "execution_count": 71,
   "id": "4e28d8f7",
   "metadata": {},
   "outputs": [],
   "source": [
    "#Conversión de las páginas del archivo de test a imágenes\n",
    "imagenes = convert_from_path(name_path, 500, poppler_path=r'C:\\Program Files\\poppler-0.68.0\\bin')"
   ]
  },
  {
   "cell_type": "code",
   "execution_count": 4,
   "id": "cac8a13f",
   "metadata": {},
   "outputs": [],
   "source": []
  },
  {
   "cell_type": "code",
   "execution_count": 72,
   "id": "b90c1c17",
   "metadata": {},
   "outputs": [],
   "source": [
    "#Guardando solo la primera página del archivo de test porque contiene los datos principales\n",
    "imagenes[0].save('Página - '+str(1)+'.jpg','JPEG')"
   ]
  },
  {
   "cell_type": "code",
   "execution_count": 96,
   "id": "3db425dd",
   "metadata": {},
   "outputs": [],
   "source": [
    "#Acceso a la imagen guardada de la página convertida del archivo de test\n",
    "my_image = Image.open('C:\\\\Users\\\\Ivan\\\\Documents\\\\Sistemas Inteligentes\\\\Proyecto\\\\Página - 1.jpg')"
   ]
  },
  {
   "cell_type": "code",
   "execution_count": 97,
   "id": "6a391381",
   "metadata": {},
   "outputs": [],
   "source": [
    "#Indicando la ruta del ejecutable de TEsseract OCR\n",
    "tess.pytesseract.tesseract_cmd = r'C:\\Program Files\\Tesseract-OCR\\tesseract.exe'"
   ]
  },
  {
   "cell_type": "code",
   "execution_count": 129,
   "id": "827623ec",
   "metadata": {},
   "outputs": [],
   "source": [
    "#Guardando el texto extraído en la variable 'text'\n",
    "text = tess.image_to_string(my_image)"
   ]
  },
  {
   "cell_type": "code",
   "execution_count": 130,
   "id": "107fc6ce",
   "metadata": {},
   "outputs": [],
   "source": [
    "# Dividir el texto en palabras\n",
    "words = text.split()"
   ]
  },
  {
   "cell_type": "code",
   "execution_count": 131,
   "id": "f1e184b7",
   "metadata": {},
   "outputs": [],
   "source": [
    "# Obtener las primeras N palabras (en este ejemplo, las primeras 15 palabras\n",
    "# por contener información relevante para clasificar)\n",
    "first_words = \" \".join(words[:15])\n",
    "text = first_words"
   ]
  },
  {
   "cell_type": "code",
   "execution_count": 132,
   "id": "00408e2a",
   "metadata": {},
   "outputs": [
    {
     "name": "stdout",
     "output_type": "stream",
     "text": [
      "REPORTE DE ENTREGABLE EVALUACION ANUAL DE LA IMPLEMENTACION DEL SISTEMA DE CONTROL INTERNO 0064 -\n"
     ]
    }
   ],
   "source": [
    "print(text)"
   ]
  },
  {
   "cell_type": "code",
   "execution_count": null,
   "id": "8d19203a",
   "metadata": {},
   "outputs": [],
   "source": []
  },
  {
   "cell_type": "code",
   "execution_count": 21,
   "id": "57f0d51b",
   "metadata": {},
   "outputs": [
    {
     "name": "stderr",
     "output_type": "stream",
     "text": [
      "[nltk_data] Downloading package stopwords to\n",
      "[nltk_data]     C:\\Users\\Ivan\\AppData\\Roaming\\nltk_data...\n",
      "[nltk_data]   Unzipping corpora\\stopwords.zip.\n"
     ]
    },
    {
     "data": {
      "text/plain": [
       "True"
      ]
     },
     "execution_count": 21,
     "metadata": {},
     "output_type": "execute_result"
    }
   ],
   "source": [
    "'''\n",
    "Este comando descarga una lista de palabras comunes conocidas como \"stopwords\" \n",
    "(palabras vacías) en varios idiomas. Las stopwords son palabras que \n",
    "generalmente se eliminan durante el preprocesamiento de texto en tareas \n",
    "de procesamiento de lenguaje natural (NLP) \n",
    "'''\n",
    "nltk.download('stopwords')"
   ]
  },
  {
   "cell_type": "code",
   "execution_count": 25,
   "id": "db296203",
   "metadata": {},
   "outputs": [
    {
     "name": "stderr",
     "output_type": "stream",
     "text": [
      "[nltk_data] Downloading package punkt to\n",
      "[nltk_data]     C:\\Users\\Ivan\\AppData\\Roaming\\nltk_data...\n",
      "[nltk_data]   Unzipping tokenizers\\punkt.zip.\n"
     ]
    },
    {
     "data": {
      "text/plain": [
       "True"
      ]
     },
     "execution_count": 25,
     "metadata": {},
     "output_type": "execute_result"
    }
   ],
   "source": [
    "'''\n",
    "Este comando descarga el tokenizador Punkt, que es un modelo de tokenización incluido \n",
    "en NLTK. La tokenización implica dividir un texto en unidades más pequeñas, \n",
    "llamadas tokens, como palabras o frases.\n",
    "'''\n",
    "nltk.download('punkt')"
   ]
  },
  {
   "cell_type": "code",
   "execution_count": 77,
   "id": "54677261",
   "metadata": {},
   "outputs": [],
   "source": [
    "#Luego de descargar los recursos de NLTK, se puede hacer uso de sus funcionalidades\n",
    "from nltk.corpus import stopwords\n",
    "from nltk.tokenize import word_tokenize"
   ]
  },
  {
   "cell_type": "code",
   "execution_count": 78,
   "id": "a9c767e8",
   "metadata": {},
   "outputs": [],
   "source": [
    "#Importar la biblioteca estándar para trabajar con expresiones regulares. \n",
    "import re"
   ]
  },
  {
   "cell_type": "code",
   "execution_count": 133,
   "id": "fab75845",
   "metadata": {},
   "outputs": [],
   "source": [
    "#Creación de un conjunto de palabras vacías (stop words) en español utilizando \n",
    "# la biblioteca Natural Language Toolkit (NLTK)\n",
    "stop_words = set(stopwords.words(\"spanish\"))"
   ]
  },
  {
   "cell_type": "code",
   "execution_count": 134,
   "id": "0e11ea52",
   "metadata": {},
   "outputs": [],
   "source": [
    "#dividir una cadena de texto en una lista de palabras individuales en Python.\n",
    "words = word_tokenize(text)"
   ]
  },
  {
   "cell_type": "code",
   "execution_count": 135,
   "id": "4b1da548",
   "metadata": {},
   "outputs": [],
   "source": [
    "#contiene una expresión regular que representa un patrón para identificar \n",
    "# caracteres de puntuación en una cadena de texto en Python. \n",
    "puntuación = r'[,;.:¡!¿?@#$%&[\\](){}<>~=+\\-*/|\\\\_^`\"\\']'"
   ]
  },
  {
   "cell_type": "code",
   "execution_count": null,
   "id": "2321fa7d",
   "metadata": {},
   "outputs": [],
   "source": []
  },
  {
   "cell_type": "code",
   "execution_count": 136,
   "id": "0c5e9736",
   "metadata": {},
   "outputs": [],
   "source": [
    "#Lista vacia para guardar cada término luego de suprimir a los \n",
    "# que contienen expresiones anteriormente definidas.\n",
    "filtered_text = []"
   ]
  },
  {
   "cell_type": "code",
   "execution_count": 137,
   "id": "e2d65a11",
   "metadata": {},
   "outputs": [],
   "source": [
    "#Recorrido de cada término del conjunto tokenizado,\n",
    "# Asimismo, se elimina los que están en el patrón de expresiones regulares\n",
    "for w in words:\n",
    "    w = re.sub(puntuación, ' ', w)\n",
    "    # dígitos [0-9]\n",
    "    w = re.sub('\\d', ' ', w)\n",
    "    if w not in stop_words:\n",
    "        filtered_text.append(w)"
   ]
  },
  {
   "cell_type": "code",
   "execution_count": 138,
   "id": "ed7dab83",
   "metadata": {},
   "outputs": [
    {
     "name": "stdout",
     "output_type": "stream",
     "text": [
      "['REPORTE', 'DE', 'ENTREGABLE', 'EVALUACION', 'ANUAL', 'DE', 'LA', 'IMPLEMENTACION', 'DEL', 'SISTEMA', 'DE', 'CONTROL', 'INTERNO', '    ', ' ']\n"
     ]
    }
   ],
   "source": [
    "#Se imprime el conjunto de términos\n",
    "print(filtered_text)"
   ]
  },
  {
   "cell_type": "code",
   "execution_count": null,
   "id": "ca5fb205",
   "metadata": {},
   "outputs": [],
   "source": []
  },
  {
   "cell_type": "code",
   "execution_count": 88,
   "id": "ce8afd8e",
   "metadata": {},
   "outputs": [],
   "source": [
    "from nltk.stem import PorterStemmer\n",
    "from nltk.tokenize import word_tokenize"
   ]
  },
  {
   "cell_type": "code",
   "execution_count": 115,
   "id": "f870e5b4",
   "metadata": {},
   "outputs": [],
   "source": [
    "ps = PorterStemmer()"
   ]
  },
  {
   "cell_type": "code",
   "execution_count": 125,
   "id": "28409e48",
   "metadata": {},
   "outputs": [
    {
     "name": "stdout",
     "output_type": "stream",
     "text": [
      "report\n",
      "de\n",
      "entreg\n",
      "evaluacion\n",
      "anual\n",
      "de\n",
      "la\n",
      "implementacion\n",
      "del\n",
      "sistema\n",
      "de\n",
      "control\n",
      "interno\n",
      "    \n",
      " \n"
     ]
    }
   ],
   "source": [
    "for w in filtered_text:\n",
    "    text_stem = ps.stem(w)\n",
    "    \n",
    "    print(text_stem)"
   ]
  },
  {
   "cell_type": "code",
   "execution_count": 127,
   "id": "605a2fee",
   "metadata": {},
   "outputs": [],
   "source": [
    "words = text_stem.split()\n",
    "first_words = \" \".join(words[:5])"
   ]
  },
  {
   "cell_type": "code",
   "execution_count": 128,
   "id": "ca93aab7",
   "metadata": {},
   "outputs": [
    {
     "name": "stdout",
     "output_type": "stream",
     "text": [
      "\n"
     ]
    }
   ],
   "source": [
    "print(first_words)"
   ]
  },
  {
   "cell_type": "code",
   "execution_count": 47,
   "id": "b03154a8",
   "metadata": {},
   "outputs": [
    {
     "name": "stdout",
     "output_type": "stream",
     "text": [
      "<class 'str'>\n"
     ]
    }
   ],
   "source": [
    "print(type(text_stem))"
   ]
  },
  {
   "cell_type": "code",
   "execution_count": 91,
   "id": "7bea1627",
   "metadata": {},
   "outputs": [],
   "source": [
    "#Importando el módulo Classifier para clasificar un término según lo entrenado\n",
    "from StringTagger.StringClf import Classifier\n",
    "\n",
    "#Importando el módulo getTextPage para obtener textualmente el contenido del html\n",
    "from StringTagger.getPage import getTextPage"
   ]
  },
  {
   "cell_type": "code",
   "execution_count": 117,
   "id": "7005d33e",
   "metadata": {},
   "outputs": [],
   "source": [
    "training_data = { # Datos para entrenar al clasificador\n",
    "    \"Acta\":[\n",
    "        'https://www.wordreference.com/sinonimos/Acta',\n",
    "        'https://es.wikipedia.org/wiki/Acta',\n",
    "        'https://dle.rae.es/acta?m=form'\n",
    "    ],\n",
    "\t\"Archivo\":[\n",
    "        'https://www.wordreference.com/sinonimos/archivo',\n",
    "        'https://es.wikipedia.org/wiki/Archivo_de_documentos',\n",
    "        'https://dle.rae.es/archivo?m=form'\n",
    "    ],\n",
    "    \"Artículo\":[\n",
    "        'https://www.wordreference.com/sinonimos/art%C3%ADculo',\n",
    "        'https://es.wikipedia.org/wiki/Art%C3%ADculo',\n",
    "        'https://dle.rae.es/art%C3%ADculo?m=form'\n",
    "    ],\n",
    "    \"Boletín\":[\n",
    "        'https://www.wordreference.com/sinonimos/bolet%C3%ADn',\n",
    "        'https://es.wikipedia.org/wiki/Bolet%C3%ADn_informativo',\n",
    "        'https://dle.rae.es/bolet%C3%ADn?m=form'\n",
    "    ],\n",
    "    \"Catálogo\":[\n",
    "        'https://www.wordreference.com/sinonimos/cat%C3%A1logo',\n",
    "        'https://es.wikipedia.org/wiki/Cat%C3%A1logo',\n",
    "        'https://dle.rae.es/catalogar?m=form'\n",
    "    ],\n",
    "    \"Contratación directa\":[\n",
    "        'https://www.wordreference.com/sinonimos/contrataci%C3%B3n',\n",
    "        'https://es.wikipedia.org/wiki/Contrataci%C3%B3n',\n",
    "        'https://dle.rae.es/contrataci%C3%B3n?m=form'\n",
    "    ],\n",
    "    \"Convenio\":[\n",
    "        'https://www.wordreference.com/sinonimos/convenio',\n",
    "        'https://es.wikipedia.org/wiki/Convenio',\n",
    "        'https://dle.rae.es/convenio?m=form'\n",
    "    ],\n",
    "    \"Convocatorias de trabajo\":[\n",
    "        'https://www.wordreference.com/sinonimos/convocatoria',\n",
    "        'https://es.wikipedia.org/wiki/Convocatoria',\n",
    "        'https://dle.rae.es/convocatorio#AhcOXeC'\n",
    "    ],\n",
    "    \"Dípticos y Trípticos\":[\n",
    "        'https://es.wikipedia.org/wiki/D%C3%ADptico',\n",
    "        'https://es.wikipedia.org/wiki/Tr%C3%ADptico_(publicidad)',\n",
    "        'https://dle.rae.es/d%C3%ADptico',\n",
    "        'https://dle.rae.es/tr%C3%ADptico?m=form'\n",
    "    ],\n",
    "    \"Documentación de Gestión\":[\n",
    "        \n",
    "    ],\n",
    "    \"Formato\":[\n",
    "        'https://www.wordreference.com/sinonimos/formato',\n",
    "        'https://es.wikipedia.org/wiki/Formato',\n",
    "        'https://dle.rae.es/formato?m=form'\n",
    "    ],\n",
    "    \"Formulario\":[\n",
    "        \n",
    "    ],\n",
    "    \"Guía\":[\n",
    "        'https://www.wordreference.com/sinonimos/gu%C3%ADa',\n",
    "        \n",
    "        'https://dle.rae.es/gu%C3%ADa?m=form'\n",
    "    ],\n",
    "    \"Informe\":[\n",
    "        'https://www.wordreference.com/sinonimos/informe',\n",
    "        'https://es.wikipedia.org/wiki/Informe',\n",
    "        'https://dle.rae.es/informe?m=form'\n",
    "    ],\n",
    "    \"Libro\":[\n",
    "        \n",
    "    ],\n",
    "    \"Listado\":[\n",
    "        \n",
    "    ],\n",
    "    \"Manual\":[\n",
    "        'https://www.wordreference.com/sinonimos/manual',\n",
    "        'https://es.wikipedia.org/wiki/Manual'\n",
    "        \n",
    "    ],\n",
    "    \"Pronunciamiento\":[\n",
    "        'https://www.wordreference.com/sinonimos/Pronunciamiento'\n",
    "    ],\n",
    "    \"Proyecto\":[\n",
    "        'https://www.wordreference.com/sinonimos/proyecto',\n",
    "        'https://es.wikipedia.org/wiki/Proyecto',\n",
    "        'https://dle.rae.es/proyecto?m=form'\n",
    "    ],\n",
    "    \"Reporte\":[\n",
    "        'https://www.wordreference.com/sinonimos/reporte',\n",
    "        \n",
    "        'https://dle.rae.es/reporte?m=form'\n",
    "    ],\n",
    "    \"Revista\":[\n",
    "        'https://www.wordreference.com/sinonimos/revista',\n",
    "        'https://es.wikipedia.org/wiki/Revista',\n",
    "        'https://dle.rae.es/revista?m=form'\n",
    "    ],\n",
    "    \n",
    "\t\n",
    "}"
   ]
  },
  {
   "cell_type": "code",
   "execution_count": 118,
   "id": "2e231298",
   "metadata": {},
   "outputs": [
    {
     "name": "stdout",
     "output_type": "stream",
     "text": [
      "Aprendiendo de: https://www.wordreference.com/sinonimos/Acta\n",
      "Aprendiendo de: https://es.wikipedia.org/wiki/Acta\n",
      "Aprendiendo de: https://dle.rae.es/acta?m=form\n",
      "Aprendiendo de: https://www.wordreference.com/sinonimos/archivo\n",
      "Aprendiendo de: https://es.wikipedia.org/wiki/Archivo_de_documentos\n",
      "Aprendiendo de: https://dle.rae.es/archivo?m=form\n",
      "Aprendiendo de: https://www.wordreference.com/sinonimos/art%C3%ADculo\n",
      "Aprendiendo de: https://es.wikipedia.org/wiki/Art%C3%ADculo\n",
      "Aprendiendo de: https://dle.rae.es/art%C3%ADculo?m=form\n",
      "Aprendiendo de: https://www.wordreference.com/sinonimos/bolet%C3%ADn\n",
      "Aprendiendo de: https://es.wikipedia.org/wiki/Bolet%C3%ADn_informativo\n",
      "Aprendiendo de: https://dle.rae.es/bolet%C3%ADn?m=form\n",
      "Aprendiendo de: https://www.wordreference.com/sinonimos/cat%C3%A1logo\n",
      "Aprendiendo de: https://es.wikipedia.org/wiki/Cat%C3%A1logo\n",
      "Aprendiendo de: https://dle.rae.es/catalogar?m=form\n",
      "Aprendiendo de: https://www.wordreference.com/sinonimos/contrataci%C3%B3n\n",
      "Aprendiendo de: https://es.wikipedia.org/wiki/Contrataci%C3%B3n\n",
      "Aprendiendo de: https://dle.rae.es/contrataci%C3%B3n?m=form\n",
      "Aprendiendo de: https://www.wordreference.com/sinonimos/convenio\n",
      "Aprendiendo de: https://es.wikipedia.org/wiki/Convenio\n",
      "Aprendiendo de: https://dle.rae.es/convenio?m=form\n",
      "Aprendiendo de: https://www.wordreference.com/sinonimos/convocatoria\n",
      "Aprendiendo de: https://es.wikipedia.org/wiki/Convocatoria\n",
      "Aprendiendo de: https://dle.rae.es/convocatorio#AhcOXeC\n",
      "Aprendiendo de: https://es.wikipedia.org/wiki/D%C3%ADptico\n",
      "Aprendiendo de: https://es.wikipedia.org/wiki/Tr%C3%ADptico_(publicidad)\n",
      "Aprendiendo de: https://dle.rae.es/d%C3%ADptico\n",
      "Aprendiendo de: https://dle.rae.es/tr%C3%ADptico?m=form\n",
      "Aprendiendo de: https://www.wordreference.com/sinonimos/formato\n",
      "Aprendiendo de: https://es.wikipedia.org/wiki/Formato\n",
      "Aprendiendo de: https://dle.rae.es/formato?m=form\n",
      "Aprendiendo de: https://www.wordreference.com/sinonimos/gu%C3%ADa\n",
      "Aprendiendo de: https://dle.rae.es/gu%C3%ADa?m=form\n",
      "Aprendiendo de: https://www.wordreference.com/sinonimos/informe\n",
      "Aprendiendo de: https://es.wikipedia.org/wiki/Informe\n",
      "Aprendiendo de: https://dle.rae.es/informe?m=form\n",
      "Aprendiendo de: https://www.wordreference.com/sinonimos/manual\n",
      "Aprendiendo de: https://es.wikipedia.org/wiki/Manual\n",
      "Aprendiendo de: https://www.wordreference.com/sinonimos/Pronunciamiento\n",
      "Aprendiendo de: https://www.wordreference.com/sinonimos/proyecto\n",
      "Aprendiendo de: https://es.wikipedia.org/wiki/Proyecto\n",
      "Aprendiendo de: https://dle.rae.es/proyecto?m=form\n",
      "Aprendiendo de: https://www.wordreference.com/sinonimos/reporte\n",
      "Aprendiendo de: https://dle.rae.es/reporte?m=form\n",
      "Aprendiendo de: https://www.wordreference.com/sinonimos/revista\n",
      "Aprendiendo de: https://es.wikipedia.org/wiki/Revista\n",
      "Aprendiendo de: https://dle.rae.es/revista?m=form\n"
     ]
    }
   ],
   "source": [
    "clf = Classifier() # Instancia del clasificador\n",
    "\n",
    "for category,urls in training_data.items(): # Entrenamos al clasificador con el contenido de cada pagina\n",
    "\tfor url in urls:\n",
    "\t\tclf.train(getTextPage(url),category) # El metodo \"getTextPage\", recive como argumento una url para extraer su texto"
   ]
  },
  {
   "cell_type": "code",
   "execution_count": 140,
   "id": "bf52eef9",
   "metadata": {},
   "outputs": [
    {
     "name": "stdout",
     "output_type": "stream",
     "text": [
      "\n",
      "\n",
      "Texto: REPORTE DE ENTREGABLE \n",
      "Etiqueta del Texto: Reporte\n"
     ]
    }
   ],
   "source": [
    "# Iniciamos el proceso de clasificación con el metodo \"String\"\n",
    "# Solo le pasamos como argumento el texto que deseamos etiquetar (clasificar)\n",
    "\n",
    "#Estos 3 elementos de 'text' contienen el tipo del documento porque generalmente\n",
    "# en el encabezado del documento está el tipo\n",
    "text = filtered_text[0:3]\n",
    "string = text[0]+' '+text[1]+' '+text[2]\n",
    "    \n",
    "#first_words = \" \".join(words[:5])\n",
    "\n",
    "clas = clf.String(string)\n",
    "print('\\n')\n",
    "print(\"Texto: %s \" % string)\n",
    "print(\"Etiqueta del Texto: %s\" % clas)"
   ]
  },
  {
   "cell_type": "code",
   "execution_count": null,
   "id": "be22d0e4",
   "metadata": {},
   "outputs": [],
   "source": []
  }
 ],
 "metadata": {
  "kernelspec": {
   "display_name": "Python 3 (ipykernel)",
   "language": "python",
   "name": "python3"
  },
  "language_info": {
   "codemirror_mode": {
    "name": "ipython",
    "version": 3
   },
   "file_extension": ".py",
   "mimetype": "text/x-python",
   "name": "python",
   "nbconvert_exporter": "python",
   "pygments_lexer": "ipython3",
   "version": "3.11.5"
  }
 },
 "nbformat": 4,
 "nbformat_minor": 5
}
